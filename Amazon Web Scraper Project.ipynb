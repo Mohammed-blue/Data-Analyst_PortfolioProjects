{
 "cells": [
  {
   "cell_type": "code",
   "execution_count": 33,
   "id": "f35adc19",
   "metadata": {},
   "outputs": [],
   "source": [
    "import pandas as pd\n",
    "from bs4 import BeautifulSoup\n",
    "import requests\n",
    "import time\n",
    "import datetime\n",
    "\n",
    "import smtplib\n",
    "import csv\n",
    "import os\n",
    "\n",
    "\n"
   ]
  },
  {
   "cell_type": "code",
   "execution_count": 7,
   "id": "130236cc",
   "metadata": {},
   "outputs": [
    {
     "name": "stdout",
     "output_type": "stream",
     "text": [
      "Requirement already satisfied: selenium in c:\\users\\mohammed\\anaconda3\\lib\\site-packages (4.17.2)\n",
      "Requirement already satisfied: urllib3[socks]<3,>=1.26 in c:\\users\\mohammed\\anaconda3\\lib\\site-packages (from selenium) (1.26.16)\n",
      "Requirement already satisfied: trio~=0.17 in c:\\users\\mohammed\\anaconda3\\lib\\site-packages (from selenium) (0.24.0)\n",
      "Requirement already satisfied: trio-websocket~=0.9 in c:\\users\\mohammed\\anaconda3\\lib\\site-packages (from selenium) (0.11.1)\n",
      "Requirement already satisfied: certifi>=2021.10.8 in c:\\users\\mohammed\\anaconda3\\lib\\site-packages (from selenium) (2023.11.17)\n",
      "Requirement already satisfied: typing_extensions>=4.9.0 in c:\\users\\mohammed\\anaconda3\\lib\\site-packages (from selenium) (4.9.0)\n",
      "Requirement already satisfied: attrs>=20.1.0 in c:\\users\\mohammed\\anaconda3\\lib\\site-packages (from trio~=0.17->selenium) (22.1.0)\n",
      "Requirement already satisfied: sortedcontainers in c:\\users\\mohammed\\anaconda3\\lib\\site-packages (from trio~=0.17->selenium) (2.4.0)\n",
      "Requirement already satisfied: idna in c:\\users\\mohammed\\anaconda3\\lib\\site-packages (from trio~=0.17->selenium) (3.4)\n",
      "Requirement already satisfied: outcome in c:\\users\\mohammed\\anaconda3\\lib\\site-packages (from trio~=0.17->selenium) (1.3.0.post0)\n",
      "Requirement already satisfied: sniffio>=1.3.0 in c:\\users\\mohammed\\anaconda3\\lib\\site-packages (from trio~=0.17->selenium) (1.3.0)\n",
      "Requirement already satisfied: cffi>=1.14 in c:\\users\\mohammed\\anaconda3\\lib\\site-packages (from trio~=0.17->selenium) (1.15.1)\n",
      "Requirement already satisfied: wsproto>=0.14 in c:\\users\\mohammed\\anaconda3\\lib\\site-packages (from trio-websocket~=0.9->selenium) (1.2.0)\n",
      "Requirement already satisfied: PySocks!=1.5.7,<2.0,>=1.5.6 in c:\\users\\mohammed\\anaconda3\\lib\\site-packages (from urllib3[socks]<3,>=1.26->selenium) (1.7.1)\n",
      "Requirement already satisfied: pycparser in c:\\users\\mohammed\\anaconda3\\lib\\site-packages (from cffi>=1.14->trio~=0.17->selenium) (2.21)\n",
      "Requirement already satisfied: h11<1,>=0.9.0 in c:\\users\\mohammed\\anaconda3\\lib\\site-packages (from wsproto>=0.14->trio-websocket~=0.9->selenium) (0.14.0)\n"
     ]
    }
   ],
   "source": [
    "# Install Selenium\n",
    "\n",
    "!pip install selenium"
   ]
  },
  {
   "cell_type": "code",
   "execution_count": 31,
   "id": "50929191",
   "metadata": {},
   "outputs": [
    {
     "name": "stdout",
     "output_type": "stream",
     "text": [
      "\n",
      "                  Funny Got Data MIS Data Systems Business Analyst T-Shirt\n",
      "                 \n",
      "\n",
      "                  $16.99\n",
      "                 \n"
     ]
    }
   ],
   "source": [
    "# Connect to Website and pull in data using Selenium:\n",
    "\n",
    "from selenium import webdriver\n",
    "from selenium.webdriver.chrome.options import Options\n",
    "\n",
    "# Set up the Chrome driver\n",
    "chrome_options = Options()\n",
    "chrome_options.add_argument(\"--headless\")  # Run in headless mode (without opening a browser window)\n",
    "driver = webdriver.Chrome(options=chrome_options)\n",
    "\n",
    "URL = 'https://www.amazon.com/Funny-Data-Systems-Business-Analyst/dp/B07FNW9FGJ/ref=sr_1_3?dchild=1&keywords=data%2Banalyst%2Btshirt&qid=1626655184&sr=8-3&customId=B0752XJYNL&th=1'\n",
    "\n",
    "# Fetch the webpage using Selenium\n",
    "driver.get(URL)\n",
    "\n",
    "# Wait for a few seconds to let the page load (you may need to adjust the wait time)\n",
    "driver.implicitly_wait(5)\n",
    "\n",
    "# Get the page source after it's fully loaded\n",
    "page_source = driver.page_source\n",
    "\n",
    "# Parse the page source with BeautifulSoup\n",
    "soup1 = BeautifulSoup(page_source, 'html.parser')\n",
    "\n",
    "soup2 = BeautifulSoup(soup1.prettify(), 'html.parser')\n",
    "\n",
    "# Find the product title\n",
    "title = soup2.find(id='productTitle').get_text()\n",
    "print(title)\n",
    "\n",
    "price = soup2.find(class_ = \"aok-offscreen\").get_text()\n",
    "print(price)\n",
    "\n",
    "# Close the Chrome driver\n",
    "# driver.quit()"
   ]
  },
  {
   "cell_type": "code",
   "execution_count": 32,
   "id": "a876d6c7",
   "metadata": {},
   "outputs": [
    {
     "name": "stdout",
     "output_type": "stream",
     "text": [
      "Funny Got Data MIS Data Systems Business Analyst T-Shirt\n",
      "16.99\n"
     ]
    }
   ],
   "source": [
    "price = price.strip()[1:]\n",
    "title = title.strip()\n",
    "\n",
    "print(title)\n",
    "print(price)"
   ]
  },
  {
   "cell_type": "code",
   "execution_count": 70,
   "id": "93744dba",
   "metadata": {},
   "outputs": [
    {
     "name": "stdout",
     "output_type": "stream",
     "text": [
      "2024-01-27\n"
     ]
    }
   ],
   "source": [
    "today = datetime.date.today()\n",
    "print(today)\n",
    "\n",
    "# today_str = str(today)\n",
    "# type(today_str)"
   ]
  },
  {
   "cell_type": "code",
   "execution_count": 75,
   "id": "09f1716c",
   "metadata": {},
   "outputs": [],
   "source": [
    "# Specify the full path to your pythonTutorila folder\n",
    "folder_path = r'C:\\Users\\Mohammed\\OneDrive\\Desktop\\SQL-Folders\\Data_Analyst\\Python_tutorials'\n",
    "\n",
    "# Create CSV and write headers and data into the file\n",
    "\n",
    "header = ['Title', 'Price', 'Date']\n",
    "data = [title, price, today]\n",
    "\n",
    "# 'w' = write\n",
    "#Now we are appending data to the csv:\n",
    "csv_file_path = os.path.join(folder_path, 'AmazonWebScraperDataset.csv')\n",
    "\n",
    "# This Writes the header and Data #\n",
    "# with open(csv_file_path , 'w', newline= '', encoding = 'UTF8') as f:\n",
    "#     writer = csv.writer(f)\n",
    "#     writer.writerow(header)\n",
    "#     writer.writerow(data)\n",
    "\n",
    "# This appends the data #\n",
    "with open(csv_file_path , 'a+', newline= '', encoding = 'UTF8') as f:\n",
    "    writer = csv.writer(f)\n",
    "    writer.writerow(data)"
   ]
  },
  {
   "cell_type": "code",
   "execution_count": 76,
   "id": "251bc159",
   "metadata": {},
   "outputs": [
    {
     "name": "stdout",
     "output_type": "stream",
     "text": [
      "                                               Title  Price        Date\n",
      "0  Funny Got Data MIS Data Systems Business Analy...  16.99  2024-01-27\n",
      "1  Funny Got Data MIS Data Systems Business Analy...  16.99  2024-01-27\n",
      "2  Funny Got Data MIS Data Systems Business Analy...  16.99  2024-01-27\n",
      "3  Funny Got Data MIS Data Systems Business Analy...  16.99  2024-01-27\n",
      "4  Funny Got Data MIS Data Systems Business Analy...  16.99  2024-01-27\n",
      "5  Funny Got Data MIS Data Systems Business Analy...  16.99  2024-01-27\n",
      "6  Funny Got Data MIS Data Systems Business Analy...  16.99  2024-01-27\n",
      "7  Funny Got Data MIS Data Systems Business Analy...  16.99  2024-01-27\n"
     ]
    }
   ],
   "source": [
    "df = pd.read_csv(r\"C:\\Users\\Mohammed\\OneDrive\\Desktop\\SQL-Folders\\Data_Analyst\\Python_tutorials\\AmazonWebScraperDataset.csv\")\n",
    "print(df)"
   ]
  },
  {
   "cell_type": "code",
   "execution_count": null,
   "id": "e4db2258",
   "metadata": {},
   "outputs": [],
   "source": []
  },
  {
   "cell_type": "code",
   "execution_count": 64,
   "id": "a749e042",
   "metadata": {},
   "outputs": [],
   "source": [
    "def check_price():\n",
    "    # Connect to Website and pull in data using Selenium:\n",
    "\n",
    "    from selenium import webdriver\n",
    "    from selenium.webdriver.chrome.options import Options\n",
    "\n",
    "    # Set up the Chrome driver\n",
    "    chrome_options = Options()\n",
    "    chrome_options.add_argument(\"--headless\")  # Run in headless mode (without opening a browser window)\n",
    "    driver = webdriver.Chrome(options=chrome_options)\n",
    "\n",
    "    URL = 'https://www.amazon.com/Funny-Data-Systems-Business-Analyst/dp/B07FNW9FGJ/ref=sr_1_3?dchild=1&keywords=data%2Banalyst%2Btshirt&qid=1626655184&sr=8-3&customId=B0752XJYNL&th=1'\n",
    "\n",
    "    # Fetch the webpage using Selenium\n",
    "    driver.get(URL)\n",
    "\n",
    "    # Wait for a few seconds to let the page load (you may need to adjust the wait time)\n",
    "    driver.implicitly_wait(5)\n",
    "\n",
    "    # Get the page source after it's fully loaded\n",
    "    page_source = driver.page_source\n",
    "\n",
    "    # Parse the page source with BeautifulSoup\n",
    "    soup1 = BeautifulSoup(page_source, 'html.parser')\n",
    "\n",
    "    soup2 = BeautifulSoup(soup1.prettify(), 'html.parser')\n",
    "\n",
    "    # Find the product title\n",
    "    title = soup2.find(id='productTitle').get_text()\n",
    "\n",
    "    price = soup2.find(class_ = \"aok-offscreen\").get_text()\n",
    "\n",
    "    price = price.strip()[1:]\n",
    "    title = title.strip()\n",
    "\n",
    "    today = datetime.date.today()\n",
    "\n",
    "    # Specify the full path to your pythonTutorila folder\n",
    "    folder_path = r'C:\\Users\\Mohammed\\OneDrive\\Desktop\\SQL-Folders\\Data_Analyst\\Python_tutorials'\n",
    "\n",
    "    # Create CSV and write headers and data into the file\n",
    "\n",
    "    header = ['Title', 'Price', 'Date']\n",
    "    data = [title, price, today]\n",
    "\n",
    "    # 'w' = write\n",
    "    #Now we are appending data to the csv:\n",
    "    csv_file_path = os.path.join(folder_path, 'AmazonWebScraperDataset.csv')\n",
    "\n",
    "    # This Writes the header and Data #\n",
    "    # with open(csv_file_path , 'w', newline= '', encoding = 'UTF8') as f:\n",
    "    #     writer = csv.writer(f)\n",
    "    #     writer.writerow(header)\n",
    "    #     writer.writerow(data)\n",
    "\n",
    "    # This appends the data #\n",
    "    with open(csv_file_path , 'a+', newline= '', encoding = 'UTF8') as f:\n",
    "        writer = csv.writer(f)\n",
    "        writer.writerow(data)\n",
    "        \n",
    "    if (price < 14):\n",
    "        send_email()\n",
    "        "
   ]
  },
  {
   "cell_type": "code",
   "execution_count": 68,
   "id": "763d0aaa",
   "metadata": {},
   "outputs": [
    {
     "name": "stdout",
     "output_type": "stream",
     "text": [
      "\n",
      "                  Funny Got Data MIS Data Systems Business Analyst T-Shirt\n",
      "                 \n",
      "\n",
      "                  $16.99\n",
      "                 \n",
      "\n",
      "                  Funny Got Data MIS Data Systems Business Analyst T-Shirt\n",
      "                 \n",
      "\n",
      "                  $16.99\n",
      "                 \n",
      "\n",
      "                  Funny Got Data MIS Data Systems Business Analyst T-Shirt\n",
      "                 \n",
      "\n",
      "                  $16.99\n",
      "                 \n"
     ]
    },
    {
     "ename": "KeyboardInterrupt",
     "evalue": "",
     "output_type": "error",
     "traceback": [
      "\u001b[1;31m---------------------------------------------------------------------------\u001b[0m",
      "\u001b[1;31mKeyboardInterrupt\u001b[0m                         Traceback (most recent call last)",
      "Cell \u001b[1;32mIn[68], line 4\u001b[0m\n\u001b[0;32m      2\u001b[0m \u001b[38;5;28;01mwhile\u001b[39;00m(\u001b[38;5;28;01mTrue\u001b[39;00m):\n\u001b[0;32m      3\u001b[0m     check_price()\n\u001b[1;32m----> 4\u001b[0m     time\u001b[38;5;241m.\u001b[39msleep(\u001b[38;5;241m1\u001b[39m)\n",
      "\u001b[1;31mKeyboardInterrupt\u001b[0m: "
     ]
    }
   ],
   "source": [
    "# Runs check_price after a set time and inputs data into your CSV\n",
    "while(True):\n",
    "    check_price()\n",
    "    time.sleep(86400)"
   ]
  },
  {
   "cell_type": "code",
   "execution_count": null,
   "id": "6951c417",
   "metadata": {},
   "outputs": [],
   "source": [
    "# df = pd.read_csv(r\"C:\\Users\\Mohammed\\OneDrive\\Desktop\\SQL-Folders\\Data_Analyst\\Python_tutorials\\AmazonWebScraperDataset.csv\")\n",
    "# print(df)"
   ]
  },
  {
   "cell_type": "code",
   "execution_count": 69,
   "id": "19dee145",
   "metadata": {},
   "outputs": [
    {
     "name": "stdout",
     "output_type": "stream",
     "text": [
      "                                               Title  Price        Date\n",
      "0  Funny Got Data MIS Data Systems Business Analy...  16.99  2024-01-27\n",
      "1  Funny Got Data MIS Data Systems Business Analy...  16.99  2024-01-27\n",
      "2  Funny Got Data MIS Data Systems Business Analy...  16.99  2024-01-27\n",
      "3  Funny Got Data MIS Data Systems Business Analy...  16.99  2024-01-27\n",
      "4  Funny Got Data MIS Data Systems Business Analy...  16.99  2024-01-27\n",
      "5  Funny Got Data MIS Data Systems Business Analy...  16.99  2024-01-27\n"
     ]
    }
   ],
   "source": [
    "# If uou want to try sending yourself an email (just for fun) when a price hits below a certain level you can try it\n",
    "# out with this script\n",
    "\n",
    "def send_email():\n",
    "    server = smtplib.SMT_SSL('smpt.gmail.com', 465)\n",
    "    server.ehlo()\n",
    "#     When using SSL, there's no need to call starttls() because the connection is already secured from the beginning.\n",
    "#     If you were using a non-secure connection then use server.starttls().\n",
    "    #server.starttls()\n",
    "    server.ehlo()\n",
    "    server.login('yourEmail@gmail.com','xxxxxxxxxxxxxx')\n",
    "    \n",
    "    subject = \"The Shirt you want is below $15! Now is your chance to buy!\"\n",
    "    body = \"Mike, This is the moment we have been waiting for. Now is your chance to pick up the shirt of your dreams. Don't mess it up! Link here: https://www.amazon.com/Funny-Data-Systems-Business-Analyst/dp/B07FNW9FGJ/ref=sr_1_3?dchild=1&keywords=data+analyst+tshirt&qid=1626655184&sr=8-3\"\n",
    "   \n",
    "    msg = f\"Subject: {subject}\\n\\n{body}\"\n",
    "    \n",
    "    server.sendmail(\n",
    "        'yourEmail@gmail.com',\n",
    "        msg\n",
    "     \n",
    "    )\n"
   ]
  },
  {
   "cell_type": "code",
   "execution_count": 11,
   "id": "2092d673",
   "metadata": {},
   "outputs": [],
   "source": [
    "# Connect to Website and pull in data:\n",
    "\n",
    "# URL = 'https://www.amazon.com/Funny-Data-Systems-Business-Analyst/dp/B07FNW9FGJ/ref=sr_1_3?dchild=1&keywords=data%2Banalyst%2Btshirt&qid=1626655184&sr=8-3&customId=B0752XJYNL&th=1'\n",
    "\n",
    "# # http://httpbin.org/get:\n",
    "# headers = {\"User-Agent\": \"Mozilla/5.0 (Windows NT 10.0; Win64; x64) AppleWebKit/537.36 (KHTML, like Gecko) Chrome/120.0.0.0 Safari/537.36\"}\n",
    "\n",
    "# page = requests.get(URL, headers = headers)\n",
    "\n",
    "# soup1 = BeautifulSoup(page.content, 'html.parser')\n",
    "# # print(soup1)\n",
    "\n",
    "# soup2 = BeautifulSoup(soup1.prettify(), 'html.parser')\n",
    "# # print(soup2)\n",
    "\n",
    "# title = soup2.find(id=\"productTitle\").get_text()\n",
    "\n",
    "# print(title)\n"
   ]
  },
  {
   "cell_type": "code",
   "execution_count": null,
   "id": "c58be374",
   "metadata": {},
   "outputs": [],
   "source": []
  },
  {
   "cell_type": "code",
   "execution_count": null,
   "id": "daa07010",
   "metadata": {},
   "outputs": [],
   "source": []
  }
 ],
 "metadata": {
  "kernelspec": {
   "display_name": "Python 3 (ipykernel)",
   "language": "python",
   "name": "python3"
  },
  "language_info": {
   "codemirror_mode": {
    "name": "ipython",
    "version": 3
   },
   "file_extension": ".py",
   "mimetype": "text/x-python",
   "name": "python",
   "nbconvert_exporter": "python",
   "pygments_lexer": "ipython3",
   "version": "3.11.5"
  }
 },
 "nbformat": 4,
 "nbformat_minor": 5
}
